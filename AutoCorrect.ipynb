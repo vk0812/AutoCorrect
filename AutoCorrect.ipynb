{
 "cells": [
  {
   "cell_type": "code",
   "execution_count": 1,
   "id": "2e7e831f",
   "metadata": {},
   "outputs": [],
   "source": [
    "import numpy as np\n",
    "import pandas as pd\n",
    "import re\n",
    "from collections import Counter"
   ]
  },
  {
   "cell_type": "code",
   "execution_count": 2,
   "id": "b4cda005",
   "metadata": {},
   "outputs": [],
   "source": [
    "def process_data(path):\n",
    "    with open(path) as f:\n",
    "        data = f.read()\n",
    "    data = data.lower()\n",
    "    words = re.findall('\\w+',data)\n",
    "    return words"
   ]
  },
  {
   "cell_type": "code",
   "execution_count": 3,
   "id": "25f9514b",
   "metadata": {},
   "outputs": [],
   "source": [
    "total_words = process_data('shakespeare.txt')\n",
    "# To find unique words just convert it to a set\n",
    "vocab = set(total_words)"
   ]
  },
  {
   "cell_type": "code",
   "execution_count": 4,
   "id": "7f54d9aa",
   "metadata": {},
   "outputs": [
    {
     "name": "stdout",
     "output_type": "stream",
     "text": [
      "53614\n",
      "6116\n"
     ]
    }
   ],
   "source": [
    "print(len(total_words))\n",
    "print(len(vocab))"
   ]
  },
  {
   "cell_type": "code",
   "execution_count": 5,
   "id": "e067e2a1",
   "metadata": {},
   "outputs": [],
   "source": [
    "def get_count(words):\n",
    "    word_dict = Counter(words)\n",
    "    return word_dict"
   ]
  },
  {
   "cell_type": "code",
   "execution_count": 6,
   "id": "5aa70ca4",
   "metadata": {},
   "outputs": [],
   "source": [
    "words_count_dict = get_count(total_words)"
   ]
  },
  {
   "cell_type": "code",
   "execution_count": 7,
   "id": "2c8e000d",
   "metadata": {},
   "outputs": [],
   "source": [
    "def get_probs(words_dict):\n",
    "    probs = {}\n",
    "    m = sum(words_dict.values())\n",
    "    for key in words_dict.keys():\n",
    "        probs[key] = words_dict[key]/m\n",
    "    return probs"
   ]
  },
  {
   "cell_type": "code",
   "execution_count": 8,
   "id": "8b73e89d",
   "metadata": {},
   "outputs": [
    {
     "data": {
      "text/plain": [
       "0.004476442720185026"
      ]
     },
     "execution_count": 8,
     "metadata": {},
     "output_type": "execute_result"
    }
   ],
   "source": [
    "probs = get_probs(words_count_dict)\n",
    "probs['thee'] # probability of the word thee"
   ]
  },
  {
   "cell_type": "code",
   "execution_count": 9,
   "id": "2a1e4152",
   "metadata": {},
   "outputs": [],
   "source": [
    "def delete_letter(word):\n",
    "    splits = [(word[:i],word[i:]) for i in range(len(word))]\n",
    "    words = [(a+b[1:]) for a,b in splits]\n",
    "    return words"
   ]
  },
  {
   "cell_type": "code",
   "execution_count": 10,
   "id": "e313f125",
   "metadata": {},
   "outputs": [],
   "source": [
    "def switch_letter(word):\n",
    "    splits = [(word[:i],word[i:]) for i in range(len(word))]\n",
    "    new_words = []\n",
    "    for a,b in splits:\n",
    "        if(len(b)>1):\n",
    "            new_words.append(a+b[1]+b[0]+b[2:])\n",
    "    return new_words"
   ]
  },
  {
   "cell_type": "code",
   "execution_count": 11,
   "id": "b238a677",
   "metadata": {},
   "outputs": [],
   "source": [
    "def replace_letter(word):\n",
    "    replace = []\n",
    "    s = 'abcdefghijklmnopqrstuvwxyz'\n",
    "    splits = [(word[:i],word[i:]) for i in range(len(word))]\n",
    "    replace = [a + l + (b[1:] if len(b)> 1 else '') for a,b in splits if b for l in s]\n",
    "    replace_set=set(replace)    \n",
    "    replace_set.remove(word)\n",
    "    replaced = sorted(list(replace_set))\n",
    "    return replaced"
   ]
  },
  {
   "cell_type": "code",
   "execution_count": 12,
   "id": "ec1b315f",
   "metadata": {},
   "outputs": [],
   "source": [
    "def insert_letter(word):\n",
    "    insert = []\n",
    "    s = 'abcdefghijklmnopqrstuvwxyz'\n",
    "    splits = [(word[:i],word[i:]) for i in range(len(word)+1)]\n",
    "    insert = [a+l+b for a,b in splits for l in s]\n",
    "    return insert"
   ]
  },
  {
   "cell_type": "code",
   "execution_count": 13,
   "id": "1cf7561e",
   "metadata": {},
   "outputs": [],
   "source": [
    "def edit_one_letter(word, allow_switches = True):\n",
    "    edit_one_set = set() # to remove duplicates\n",
    "    edit_one_set.update(delete_letter(word))\n",
    "    if allow_switches:\n",
    "        edit_one_set.update(switch_letter(word))\n",
    "    edit_one_set.update(replace_letter(word))\n",
    "    edit_one_set.update(insert_letter(word))\n",
    "    return edit_one_set"
   ]
  },
  {
   "cell_type": "code",
   "execution_count": 14,
   "id": "fda6c4e4",
   "metadata": {},
   "outputs": [],
   "source": [
    "def edit_two_letters(word, allow_switches = True):\n",
    "    edit_two_set = set() # to remove duplicates\n",
    "    edit_one = edit_one_letter(word,allow_switches=allow_switches)\n",
    "    print(type(edit_one))\n",
    "    for w in edit_one:\n",
    "        if w:\n",
    "            edit_two = edit_one_letter(w,allow_switches=allow_switches)\n",
    "            edit_two_set.update(edit_two)\n",
    "    return edit_two_set"
   ]
  },
  {
   "cell_type": "code",
   "execution_count": 15,
   "id": "e48fce40",
   "metadata": {},
   "outputs": [],
   "source": [
    "def get_words(word,vocab,probs,n=2):\n",
    "    suggestions = []\n",
    "    suggestions = list((word in vocab and word) or edit_one_letter(word).intersection(vocab) or edit_two_letters(word).intersection(vocab))\n",
    "    best = [(s,probs[s]) for s in list(reversed(suggestions))]\n",
    "    return (best)"
   ]
  },
  {
   "cell_type": "code",
   "execution_count": 16,
   "id": "a44707d3",
   "metadata": {},
   "outputs": [
    {
     "data": {
      "text/plain": [
       "[('ta', 1.865184466743761e-05),\n",
       " ('eat', 0.00022382213600925132),\n",
       " ('etc', 3.730368933487522e-05)]"
      ]
     },
     "execution_count": 16,
     "metadata": {},
     "output_type": "execute_result"
    }
   ],
   "source": [
    "get_words('eta',vocab,probs)"
   ]
  },
  {
   "cell_type": "code",
   "execution_count": 17,
   "id": "8c966cfb",
   "metadata": {},
   "outputs": [
    {
     "data": {
      "text/plain": [
       "[('dye', 1.865184466743761e-05), ('days', 0.0004103405826836274)]"
      ]
     },
     "execution_count": 17,
     "metadata": {},
     "output_type": "execute_result"
    }
   ],
   "source": [
    "get_words('dys',vocab,probs)"
   ]
  },
  {
   "cell_type": "code",
   "execution_count": 18,
   "id": "dd0a53f3",
   "metadata": {},
   "outputs": [],
   "source": [
    "def min_edit_distance(source,target,ins_cost=1,del_cost=1,rep_cost=2):\n",
    "    m = len(source)\n",
    "    n = len(target)\n",
    "    D = np.zeros((m+1,n+1)).astype(np.int32)\n",
    "    \n",
    "    for i in range(1,(m+1)):\n",
    "        D[i][0] = D[i-1][0] + del_cost\n",
    "    for j in range(1,(n+1)):\n",
    "        D[0][j] = D[0][j-1] + ins_cost\n",
    "        \n",
    "    for i in range(1,(m+1)):\n",
    "        for j in range(1,(n+1)):\n",
    "            r_cost=rep_cost\n",
    "            if(source[i-1] == target[j-1]):\n",
    "                r_cost=0\n",
    "            D[i][j] = min([D[i-1][j]+del_cost, D[i][j-1]+ins_cost, D[i-1][j-1]+r_cost])\n",
    "    min_edit = D[m][n]\n",
    "    return D,min_edit"
   ]
  },
  {
   "cell_type": "code",
   "execution_count": 19,
   "id": "718dd5a9",
   "metadata": {},
   "outputs": [],
   "source": [
    "D,min_edit = min_edit_distance('play','stay')"
   ]
  },
  {
   "cell_type": "code",
   "execution_count": 20,
   "id": "c5f4af75",
   "metadata": {},
   "outputs": [
    {
     "data": {
      "text/plain": [
       "array([[0, 1, 2, 3, 4],\n",
       "       [1, 2, 3, 4, 5],\n",
       "       [2, 3, 4, 5, 6],\n",
       "       [3, 4, 5, 4, 5],\n",
       "       [4, 5, 6, 5, 4]])"
      ]
     },
     "execution_count": 20,
     "metadata": {},
     "output_type": "execute_result"
    }
   ],
   "source": [
    "D"
   ]
  },
  {
   "cell_type": "code",
   "execution_count": 21,
   "id": "64c8438f",
   "metadata": {},
   "outputs": [
    {
     "data": {
      "text/plain": [
       "4"
      ]
     },
     "execution_count": 21,
     "metadata": {},
     "output_type": "execute_result"
    }
   ],
   "source": [
    "min_edit\n",
    "# Minimum edits required to convert source to target"
   ]
  }
 ],
 "metadata": {
  "kernelspec": {
   "display_name": "Python 3 (ipykernel)",
   "language": "python",
   "name": "python3"
  },
  "language_info": {
   "codemirror_mode": {
    "name": "ipython",
    "version": 3
   },
   "file_extension": ".py",
   "mimetype": "text/x-python",
   "name": "python",
   "nbconvert_exporter": "python",
   "pygments_lexer": "ipython3",
   "version": "3.9.7"
  }
 },
 "nbformat": 4,
 "nbformat_minor": 5
}
